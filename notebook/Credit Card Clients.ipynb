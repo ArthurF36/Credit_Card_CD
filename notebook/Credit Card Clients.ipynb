{
 "cells": [
  {
   "cell_type": "code",
   "execution_count": null,
   "id": "ac1a3560",
   "metadata": {},
   "outputs": [],
   "source": [
    "!pip install -q --upgrade xlrd openpyxl"
   ]
  },
  {
   "cell_type": "code",
   "execution_count": null,
   "id": "0c0bcd2d",
   "metadata": {},
   "outputs": [],
   "source": [
    "import pandas as pd\n",
    "\n",
    "df = pd.read_excel(r'C:\\Users\\Acer\\github\\Credit_Card_Clients\\Data\\Credit Card Clients-20251001T113651Z-1-001\\Credit Card Clients\\default of credit card clients.xls', \n",
    "                   header=1)\n",
    "\n",
    "print(\"Dados para dataset original do Cartão de crédito:\")\n",
    "display(df.head(10))"
   ]
  },
  {
   "cell_type": "code",
   "execution_count": null,
   "id": "555b7133",
   "metadata": {},
   "outputs": [],
   "source": []
  }
 ],
 "metadata": {
  "language_info": {
   "name": "python"
  }
 },
 "nbformat": 4,
 "nbformat_minor": 5
}
